{
  "nbformat": 4,
  "nbformat_minor": 0,
  "metadata": {
    "colab": {
      "provenance": []
    },
    "kernelspec": {
      "name": "python3",
      "display_name": "Python 3"
    },
    "language_info": {
      "name": "python"
    }
  },
  "cells": [
    {
      "cell_type": "markdown",
      "source": [
        "# **INTRODUCTION**\n",
        "\n",
        "The TMDB 5000 Movies Dataset is a comprehensive collection of information about movies, including financial performance, popularity, genres, and cast/crew details. This dataset is sourced from The Movie Database (TMDB) and is commonly used for exploratory data analysis and machine learning projects in the film industry"
      ],
      "metadata": {
        "id": "PX8NBLJ1Vwt3"
      }
    },
    {
      "cell_type": "markdown",
      "source": [
        "# **Questions:**\n",
        "1. What is the average runtime of movies over the years?\n",
        "\n",
        "2. Which director has the highest average revenue?\n",
        "\n",
        "3. What is the relationship between vote average and revenue?\n",
        "\n",
        "4. Do movies with a star-studded cast perform better in revenue?\n",
        "\n",
        "5. Which production companies have the highest average revenue?"
      ],
      "metadata": {
        "id": "eyfGFvFMUDTI"
      }
    },
    {
      "cell_type": "code",
      "execution_count": 2,
      "metadata": {
        "id": "sKxvAHKRT07F"
      },
      "outputs": [],
      "source": [
        "import pandas as pd\n",
        "import numpy as np\n",
        "import matplotlib.pyplot as plt\n",
        "import seaborn as sns"
      ]
    },
    {
      "cell_type": "code",
      "source": [
        "movies_path = \"tmdb_5000_movies.csv\"\n",
        "credits_path = \"tmdb_5000_credits.csv\""
      ],
      "metadata": {
        "id": "-mF1tnAPWZNc"
      },
      "execution_count": 3,
      "outputs": []
    },
    {
      "cell_type": "code",
      "source": [
        "movies_df = pd.read_csv(movies_path)\n",
        "credits_df = pd.read_csv(credits_path)"
      ],
      "metadata": {
        "id": "zb4Lywx1Wnsa"
      },
      "execution_count": 4,
      "outputs": []
    },
    {
      "cell_type": "code",
      "source": [
        "movies_df.head(5) , credits_df.head(5)"
      ],
      "metadata": {
        "colab": {
          "base_uri": "https://localhost:8080/"
        },
        "id": "TD_M_n4RWoNy",
        "outputId": "d5e34c66-e27e-491d-cd3f-1259e1af32f5"
      },
      "execution_count": 6,
      "outputs": [
        {
          "output_type": "execute_result",
          "data": {
            "text/plain": [
              "(      budget                                             genres  \\\n",
              " 0  237000000  [{\"id\": 28, \"name\": \"Action\"}, {\"id\": 12, \"nam...   \n",
              " 1  300000000  [{\"id\": 12, \"name\": \"Adventure\"}, {\"id\": 14, \"...   \n",
              " 2  245000000  [{\"id\": 28, \"name\": \"Action\"}, {\"id\": 12, \"nam...   \n",
              " 3  250000000  [{\"id\": 28, \"name\": \"Action\"}, {\"id\": 80, \"nam...   \n",
              " 4  260000000  [{\"id\": 28, \"name\": \"Action\"}, {\"id\": 12, \"nam...   \n",
              " \n",
              "                                        homepage      id  \\\n",
              " 0                   http://www.avatarmovie.com/   19995   \n",
              " 1  http://disney.go.com/disneypictures/pirates/     285   \n",
              " 2   http://www.sonypictures.com/movies/spectre/  206647   \n",
              " 3            http://www.thedarkknightrises.com/   49026   \n",
              " 4          http://movies.disney.com/john-carter   49529   \n",
              " \n",
              "                                             keywords original_language  \\\n",
              " 0  [{\"id\": 1463, \"name\": \"culture clash\"}, {\"id\":...                en   \n",
              " 1  [{\"id\": 270, \"name\": \"ocean\"}, {\"id\": 726, \"na...                en   \n",
              " 2  [{\"id\": 470, \"name\": \"spy\"}, {\"id\": 818, \"name...                en   \n",
              " 3  [{\"id\": 849, \"name\": \"dc comics\"}, {\"id\": 853,...                en   \n",
              " 4  [{\"id\": 818, \"name\": \"based on novel\"}, {\"id\":...                en   \n",
              " \n",
              "                              original_title  \\\n",
              " 0                                    Avatar   \n",
              " 1  Pirates of the Caribbean: At World's End   \n",
              " 2                                   Spectre   \n",
              " 3                     The Dark Knight Rises   \n",
              " 4                               John Carter   \n",
              " \n",
              "                                             overview  popularity  \\\n",
              " 0  In the 22nd century, a paraplegic Marine is di...  150.437577   \n",
              " 1  Captain Barbossa, long believed to be dead, ha...  139.082615   \n",
              " 2  A cryptic message from Bond’s past sends him o...  107.376788   \n",
              " 3  Following the death of District Attorney Harve...  112.312950   \n",
              " 4  John Carter is a war-weary, former military ca...   43.926995   \n",
              " \n",
              "                                 production_companies  \\\n",
              " 0  [{\"name\": \"Ingenious Film Partners\", \"id\": 289...   \n",
              " 1  [{\"name\": \"Walt Disney Pictures\", \"id\": 2}, {\"...   \n",
              " 2  [{\"name\": \"Columbia Pictures\", \"id\": 5}, {\"nam...   \n",
              " 3  [{\"name\": \"Legendary Pictures\", \"id\": 923}, {\"...   \n",
              " 4        [{\"name\": \"Walt Disney Pictures\", \"id\": 2}]   \n",
              " \n",
              "                                 production_countries release_date     revenue  \\\n",
              " 0  [{\"iso_3166_1\": \"US\", \"name\": \"United States o...   2009-12-10  2787965087   \n",
              " 1  [{\"iso_3166_1\": \"US\", \"name\": \"United States o...   2007-05-19   961000000   \n",
              " 2  [{\"iso_3166_1\": \"GB\", \"name\": \"United Kingdom\"...   2015-10-26   880674609   \n",
              " 3  [{\"iso_3166_1\": \"US\", \"name\": \"United States o...   2012-07-16  1084939099   \n",
              " 4  [{\"iso_3166_1\": \"US\", \"name\": \"United States o...   2012-03-07   284139100   \n",
              " \n",
              "    runtime                                   spoken_languages    status  \\\n",
              " 0    162.0  [{\"iso_639_1\": \"en\", \"name\": \"English\"}, {\"iso...  Released   \n",
              " 1    169.0           [{\"iso_639_1\": \"en\", \"name\": \"English\"}]  Released   \n",
              " 2    148.0  [{\"iso_639_1\": \"fr\", \"name\": \"Fran\\u00e7ais\"},...  Released   \n",
              " 3    165.0           [{\"iso_639_1\": \"en\", \"name\": \"English\"}]  Released   \n",
              " 4    132.0           [{\"iso_639_1\": \"en\", \"name\": \"English\"}]  Released   \n",
              " \n",
              "                                           tagline  \\\n",
              " 0                     Enter the World of Pandora.   \n",
              " 1  At the end of the world, the adventure begins.   \n",
              " 2                           A Plan No One Escapes   \n",
              " 3                                 The Legend Ends   \n",
              " 4            Lost in our world, found in another.   \n",
              " \n",
              "                                       title  vote_average  vote_count  \n",
              " 0                                    Avatar           7.2       11800  \n",
              " 1  Pirates of the Caribbean: At World's End           6.9        4500  \n",
              " 2                                   Spectre           6.3        4466  \n",
              " 3                     The Dark Knight Rises           7.6        9106  \n",
              " 4                               John Carter           6.1        2124  ,\n",
              "    movie_id                                     title  \\\n",
              " 0     19995                                    Avatar   \n",
              " 1       285  Pirates of the Caribbean: At World's End   \n",
              " 2    206647                                   Spectre   \n",
              " 3     49026                     The Dark Knight Rises   \n",
              " 4     49529                               John Carter   \n",
              " \n",
              "                                                 cast  \\\n",
              " 0  [{\"cast_id\": 242, \"character\": \"Jake Sully\", \"...   \n",
              " 1  [{\"cast_id\": 4, \"character\": \"Captain Jack Spa...   \n",
              " 2  [{\"cast_id\": 1, \"character\": \"James Bond\", \"cr...   \n",
              " 3  [{\"cast_id\": 2, \"character\": \"Bruce Wayne / Ba...   \n",
              " 4  [{\"cast_id\": 5, \"character\": \"John Carter\", \"c...   \n",
              " \n",
              "                                                 crew  \n",
              " 0  [{\"credit_id\": \"52fe48009251416c750aca23\", \"de...  \n",
              " 1  [{\"credit_id\": \"52fe4232c3a36847f800b579\", \"de...  \n",
              " 2  [{\"credit_id\": \"54805967c3a36829b5002c41\", \"de...  \n",
              " 3  [{\"credit_id\": \"52fe4781c3a36847f81398c3\", \"de...  \n",
              " 4  [{\"credit_id\": \"52fe479ac3a36847f813eaa3\", \"de...  )"
            ]
          },
          "metadata": {},
          "execution_count": 6
        }
      ]
    },
    {
      "cell_type": "code",
      "source": [
        "movies_df.shape"
      ],
      "metadata": {
        "colab": {
          "base_uri": "https://localhost:8080/"
        },
        "id": "0Tjl3DgAW_QU",
        "outputId": "5d25c2ac-2432-4e2c-cfa8-fd57f322faff"
      },
      "execution_count": 8,
      "outputs": [
        {
          "output_type": "execute_result",
          "data": {
            "text/plain": [
              "(4803, 20)"
            ]
          },
          "metadata": {},
          "execution_count": 8
        }
      ]
    },
    {
      "cell_type": "code",
      "source": [
        "credits_df.shape"
      ],
      "metadata": {
        "colab": {
          "base_uri": "https://localhost:8080/"
        },
        "id": "TG5GzJ9ZXQba",
        "outputId": "8b692d5a-8ff8-456f-9b7b-2e85cae4c6b6"
      },
      "execution_count": 9,
      "outputs": [
        {
          "output_type": "execute_result",
          "data": {
            "text/plain": [
              "(4803, 4)"
            ]
          },
          "metadata": {},
          "execution_count": 9
        }
      ]
    },
    {
      "cell_type": "code",
      "source": [
        "movies_df.dtypes"
      ],
      "metadata": {
        "colab": {
          "base_uri": "https://localhost:8080/",
          "height": 711
        },
        "id": "kqmbkKi-XWfe",
        "outputId": "c2373f3d-6fef-467c-9af6-78b8c7ffb023"
      },
      "execution_count": 10,
      "outputs": [
        {
          "output_type": "execute_result",
          "data": {
            "text/plain": [
              "budget                    int64\n",
              "genres                   object\n",
              "homepage                 object\n",
              "id                        int64\n",
              "keywords                 object\n",
              "original_language        object\n",
              "original_title           object\n",
              "overview                 object\n",
              "popularity              float64\n",
              "production_companies     object\n",
              "production_countries     object\n",
              "release_date             object\n",
              "revenue                   int64\n",
              "runtime                 float64\n",
              "spoken_languages         object\n",
              "status                   object\n",
              "tagline                  object\n",
              "title                    object\n",
              "vote_average            float64\n",
              "vote_count                int64\n",
              "dtype: object"
            ],
            "text/html": [
              "<div>\n",
              "<style scoped>\n",
              "    .dataframe tbody tr th:only-of-type {\n",
              "        vertical-align: middle;\n",
              "    }\n",
              "\n",
              "    .dataframe tbody tr th {\n",
              "        vertical-align: top;\n",
              "    }\n",
              "\n",
              "    .dataframe thead th {\n",
              "        text-align: right;\n",
              "    }\n",
              "</style>\n",
              "<table border=\"1\" class=\"dataframe\">\n",
              "  <thead>\n",
              "    <tr style=\"text-align: right;\">\n",
              "      <th></th>\n",
              "      <th>0</th>\n",
              "    </tr>\n",
              "  </thead>\n",
              "  <tbody>\n",
              "    <tr>\n",
              "      <th>budget</th>\n",
              "      <td>int64</td>\n",
              "    </tr>\n",
              "    <tr>\n",
              "      <th>genres</th>\n",
              "      <td>object</td>\n",
              "    </tr>\n",
              "    <tr>\n",
              "      <th>homepage</th>\n",
              "      <td>object</td>\n",
              "    </tr>\n",
              "    <tr>\n",
              "      <th>id</th>\n",
              "      <td>int64</td>\n",
              "    </tr>\n",
              "    <tr>\n",
              "      <th>keywords</th>\n",
              "      <td>object</td>\n",
              "    </tr>\n",
              "    <tr>\n",
              "      <th>original_language</th>\n",
              "      <td>object</td>\n",
              "    </tr>\n",
              "    <tr>\n",
              "      <th>original_title</th>\n",
              "      <td>object</td>\n",
              "    </tr>\n",
              "    <tr>\n",
              "      <th>overview</th>\n",
              "      <td>object</td>\n",
              "    </tr>\n",
              "    <tr>\n",
              "      <th>popularity</th>\n",
              "      <td>float64</td>\n",
              "    </tr>\n",
              "    <tr>\n",
              "      <th>production_companies</th>\n",
              "      <td>object</td>\n",
              "    </tr>\n",
              "    <tr>\n",
              "      <th>production_countries</th>\n",
              "      <td>object</td>\n",
              "    </tr>\n",
              "    <tr>\n",
              "      <th>release_date</th>\n",
              "      <td>object</td>\n",
              "    </tr>\n",
              "    <tr>\n",
              "      <th>revenue</th>\n",
              "      <td>int64</td>\n",
              "    </tr>\n",
              "    <tr>\n",
              "      <th>runtime</th>\n",
              "      <td>float64</td>\n",
              "    </tr>\n",
              "    <tr>\n",
              "      <th>spoken_languages</th>\n",
              "      <td>object</td>\n",
              "    </tr>\n",
              "    <tr>\n",
              "      <th>status</th>\n",
              "      <td>object</td>\n",
              "    </tr>\n",
              "    <tr>\n",
              "      <th>tagline</th>\n",
              "      <td>object</td>\n",
              "    </tr>\n",
              "    <tr>\n",
              "      <th>title</th>\n",
              "      <td>object</td>\n",
              "    </tr>\n",
              "    <tr>\n",
              "      <th>vote_average</th>\n",
              "      <td>float64</td>\n",
              "    </tr>\n",
              "    <tr>\n",
              "      <th>vote_count</th>\n",
              "      <td>int64</td>\n",
              "    </tr>\n",
              "  </tbody>\n",
              "</table>\n",
              "</div><br><label><b>dtype:</b> object</label>"
            ]
          },
          "metadata": {},
          "execution_count": 10
        }
      ]
    },
    {
      "cell_type": "code",
      "source": [
        "credits_df.dtypes"
      ],
      "metadata": {
        "colab": {
          "base_uri": "https://localhost:8080/",
          "height": 210
        },
        "id": "KfqjHN75XgWw",
        "outputId": "ea07e20b-e6ed-47fe-81c7-8d187d1cf57c"
      },
      "execution_count": 12,
      "outputs": [
        {
          "output_type": "execute_result",
          "data": {
            "text/plain": [
              "movie_id     int64\n",
              "title       object\n",
              "cast        object\n",
              "crew        object\n",
              "dtype: object"
            ],
            "text/html": [
              "<div>\n",
              "<style scoped>\n",
              "    .dataframe tbody tr th:only-of-type {\n",
              "        vertical-align: middle;\n",
              "    }\n",
              "\n",
              "    .dataframe tbody tr th {\n",
              "        vertical-align: top;\n",
              "    }\n",
              "\n",
              "    .dataframe thead th {\n",
              "        text-align: right;\n",
              "    }\n",
              "</style>\n",
              "<table border=\"1\" class=\"dataframe\">\n",
              "  <thead>\n",
              "    <tr style=\"text-align: right;\">\n",
              "      <th></th>\n",
              "      <th>0</th>\n",
              "    </tr>\n",
              "  </thead>\n",
              "  <tbody>\n",
              "    <tr>\n",
              "      <th>movie_id</th>\n",
              "      <td>int64</td>\n",
              "    </tr>\n",
              "    <tr>\n",
              "      <th>title</th>\n",
              "      <td>object</td>\n",
              "    </tr>\n",
              "    <tr>\n",
              "      <th>cast</th>\n",
              "      <td>object</td>\n",
              "    </tr>\n",
              "    <tr>\n",
              "      <th>crew</th>\n",
              "      <td>object</td>\n",
              "    </tr>\n",
              "  </tbody>\n",
              "</table>\n",
              "</div><br><label><b>dtype:</b> object</label>"
            ]
          },
          "metadata": {},
          "execution_count": 12
        }
      ]
    },
    {
      "cell_type": "code",
      "source": [
        "movies_df.isnull().sum()"
      ],
      "metadata": {
        "colab": {
          "base_uri": "https://localhost:8080/",
          "height": 711
        },
        "id": "i0kuWw-eXlbi",
        "outputId": "0139b6a8-e9f6-4b58-be95-d0b11546ef1b"
      },
      "execution_count": 13,
      "outputs": [
        {
          "output_type": "execute_result",
          "data": {
            "text/plain": [
              "budget                     0\n",
              "genres                     0\n",
              "homepage                3091\n",
              "id                         0\n",
              "keywords                   0\n",
              "original_language          0\n",
              "original_title             0\n",
              "overview                   3\n",
              "popularity                 0\n",
              "production_companies       0\n",
              "production_countries       0\n",
              "release_date               1\n",
              "revenue                    0\n",
              "runtime                    2\n",
              "spoken_languages           0\n",
              "status                     0\n",
              "tagline                  844\n",
              "title                      0\n",
              "vote_average               0\n",
              "vote_count                 0\n",
              "dtype: int64"
            ],
            "text/html": [
              "<div>\n",
              "<style scoped>\n",
              "    .dataframe tbody tr th:only-of-type {\n",
              "        vertical-align: middle;\n",
              "    }\n",
              "\n",
              "    .dataframe tbody tr th {\n",
              "        vertical-align: top;\n",
              "    }\n",
              "\n",
              "    .dataframe thead th {\n",
              "        text-align: right;\n",
              "    }\n",
              "</style>\n",
              "<table border=\"1\" class=\"dataframe\">\n",
              "  <thead>\n",
              "    <tr style=\"text-align: right;\">\n",
              "      <th></th>\n",
              "      <th>0</th>\n",
              "    </tr>\n",
              "  </thead>\n",
              "  <tbody>\n",
              "    <tr>\n",
              "      <th>budget</th>\n",
              "      <td>0</td>\n",
              "    </tr>\n",
              "    <tr>\n",
              "      <th>genres</th>\n",
              "      <td>0</td>\n",
              "    </tr>\n",
              "    <tr>\n",
              "      <th>homepage</th>\n",
              "      <td>3091</td>\n",
              "    </tr>\n",
              "    <tr>\n",
              "      <th>id</th>\n",
              "      <td>0</td>\n",
              "    </tr>\n",
              "    <tr>\n",
              "      <th>keywords</th>\n",
              "      <td>0</td>\n",
              "    </tr>\n",
              "    <tr>\n",
              "      <th>original_language</th>\n",
              "      <td>0</td>\n",
              "    </tr>\n",
              "    <tr>\n",
              "      <th>original_title</th>\n",
              "      <td>0</td>\n",
              "    </tr>\n",
              "    <tr>\n",
              "      <th>overview</th>\n",
              "      <td>3</td>\n",
              "    </tr>\n",
              "    <tr>\n",
              "      <th>popularity</th>\n",
              "      <td>0</td>\n",
              "    </tr>\n",
              "    <tr>\n",
              "      <th>production_companies</th>\n",
              "      <td>0</td>\n",
              "    </tr>\n",
              "    <tr>\n",
              "      <th>production_countries</th>\n",
              "      <td>0</td>\n",
              "    </tr>\n",
              "    <tr>\n",
              "      <th>release_date</th>\n",
              "      <td>1</td>\n",
              "    </tr>\n",
              "    <tr>\n",
              "      <th>revenue</th>\n",
              "      <td>0</td>\n",
              "    </tr>\n",
              "    <tr>\n",
              "      <th>runtime</th>\n",
              "      <td>2</td>\n",
              "    </tr>\n",
              "    <tr>\n",
              "      <th>spoken_languages</th>\n",
              "      <td>0</td>\n",
              "    </tr>\n",
              "    <tr>\n",
              "      <th>status</th>\n",
              "      <td>0</td>\n",
              "    </tr>\n",
              "    <tr>\n",
              "      <th>tagline</th>\n",
              "      <td>844</td>\n",
              "    </tr>\n",
              "    <tr>\n",
              "      <th>title</th>\n",
              "      <td>0</td>\n",
              "    </tr>\n",
              "    <tr>\n",
              "      <th>vote_average</th>\n",
              "      <td>0</td>\n",
              "    </tr>\n",
              "    <tr>\n",
              "      <th>vote_count</th>\n",
              "      <td>0</td>\n",
              "    </tr>\n",
              "  </tbody>\n",
              "</table>\n",
              "</div><br><label><b>dtype:</b> int64</label>"
            ]
          },
          "metadata": {},
          "execution_count": 13
        }
      ]
    },
    {
      "cell_type": "code",
      "source": [
        "credits_df.isnull().sum()"
      ],
      "metadata": {
        "colab": {
          "base_uri": "https://localhost:8080/",
          "height": 210
        },
        "id": "SN8dTsrPXu4c",
        "outputId": "47f984be-6459-42a7-8cd4-f3d2a514765f"
      },
      "execution_count": 14,
      "outputs": [
        {
          "output_type": "execute_result",
          "data": {
            "text/plain": [
              "movie_id    0\n",
              "title       0\n",
              "cast        0\n",
              "crew        0\n",
              "dtype: int64"
            ],
            "text/html": [
              "<div>\n",
              "<style scoped>\n",
              "    .dataframe tbody tr th:only-of-type {\n",
              "        vertical-align: middle;\n",
              "    }\n",
              "\n",
              "    .dataframe tbody tr th {\n",
              "        vertical-align: top;\n",
              "    }\n",
              "\n",
              "    .dataframe thead th {\n",
              "        text-align: right;\n",
              "    }\n",
              "</style>\n",
              "<table border=\"1\" class=\"dataframe\">\n",
              "  <thead>\n",
              "    <tr style=\"text-align: right;\">\n",
              "      <th></th>\n",
              "      <th>0</th>\n",
              "    </tr>\n",
              "  </thead>\n",
              "  <tbody>\n",
              "    <tr>\n",
              "      <th>movie_id</th>\n",
              "      <td>0</td>\n",
              "    </tr>\n",
              "    <tr>\n",
              "      <th>title</th>\n",
              "      <td>0</td>\n",
              "    </tr>\n",
              "    <tr>\n",
              "      <th>cast</th>\n",
              "      <td>0</td>\n",
              "    </tr>\n",
              "    <tr>\n",
              "      <th>crew</th>\n",
              "      <td>0</td>\n",
              "    </tr>\n",
              "  </tbody>\n",
              "</table>\n",
              "</div><br><label><b>dtype:</b> int64</label>"
            ]
          },
          "metadata": {},
          "execution_count": 14
        }
      ]
    },
    {
      "cell_type": "code",
      "source": [
        "movies_df.duplicated().sum()"
      ],
      "metadata": {
        "colab": {
          "base_uri": "https://localhost:8080/"
        },
        "id": "crZVWgGfXyoc",
        "outputId": "9be79979-853a-4a5a-8b67-e2a43df219aa"
      },
      "execution_count": 15,
      "outputs": [
        {
          "output_type": "execute_result",
          "data": {
            "text/plain": [
              "0"
            ]
          },
          "metadata": {},
          "execution_count": 15
        }
      ]
    },
    {
      "cell_type": "code",
      "source": [
        "credits_df.duplicated().sum()"
      ],
      "metadata": {
        "colab": {
          "base_uri": "https://localhost:8080/"
        },
        "id": "kRFG7JJoX3ud",
        "outputId": "4b10ce71-55eb-49e3-b765-efea0644536a"
      },
      "execution_count": 16,
      "outputs": [
        {
          "output_type": "execute_result",
          "data": {
            "text/plain": [
              "0"
            ]
          },
          "metadata": {},
          "execution_count": 16
        }
      ]
    },
    {
      "cell_type": "code",
      "source": [
        "movies_df.nunique()"
      ],
      "metadata": {
        "colab": {
          "base_uri": "https://localhost:8080/",
          "height": 711
        },
        "id": "XQWslmuJX6qK",
        "outputId": "24548e5a-0092-43df-c12a-e10c30c9fabe"
      },
      "execution_count": 18,
      "outputs": [
        {
          "output_type": "execute_result",
          "data": {
            "text/plain": [
              "budget                   436\n",
              "genres                  1175\n",
              "homepage                1691\n",
              "id                      4803\n",
              "keywords                4222\n",
              "original_language         37\n",
              "original_title          4801\n",
              "overview                4800\n",
              "popularity              4802\n",
              "production_companies    3697\n",
              "production_countries     469\n",
              "release_date            3280\n",
              "revenue                 3297\n",
              "runtime                  156\n",
              "spoken_languages         544\n",
              "status                     3\n",
              "tagline                 3944\n",
              "title                   4800\n",
              "vote_average              71\n",
              "vote_count              1609\n",
              "dtype: int64"
            ],
            "text/html": [
              "<div>\n",
              "<style scoped>\n",
              "    .dataframe tbody tr th:only-of-type {\n",
              "        vertical-align: middle;\n",
              "    }\n",
              "\n",
              "    .dataframe tbody tr th {\n",
              "        vertical-align: top;\n",
              "    }\n",
              "\n",
              "    .dataframe thead th {\n",
              "        text-align: right;\n",
              "    }\n",
              "</style>\n",
              "<table border=\"1\" class=\"dataframe\">\n",
              "  <thead>\n",
              "    <tr style=\"text-align: right;\">\n",
              "      <th></th>\n",
              "      <th>0</th>\n",
              "    </tr>\n",
              "  </thead>\n",
              "  <tbody>\n",
              "    <tr>\n",
              "      <th>budget</th>\n",
              "      <td>436</td>\n",
              "    </tr>\n",
              "    <tr>\n",
              "      <th>genres</th>\n",
              "      <td>1175</td>\n",
              "    </tr>\n",
              "    <tr>\n",
              "      <th>homepage</th>\n",
              "      <td>1691</td>\n",
              "    </tr>\n",
              "    <tr>\n",
              "      <th>id</th>\n",
              "      <td>4803</td>\n",
              "    </tr>\n",
              "    <tr>\n",
              "      <th>keywords</th>\n",
              "      <td>4222</td>\n",
              "    </tr>\n",
              "    <tr>\n",
              "      <th>original_language</th>\n",
              "      <td>37</td>\n",
              "    </tr>\n",
              "    <tr>\n",
              "      <th>original_title</th>\n",
              "      <td>4801</td>\n",
              "    </tr>\n",
              "    <tr>\n",
              "      <th>overview</th>\n",
              "      <td>4800</td>\n",
              "    </tr>\n",
              "    <tr>\n",
              "      <th>popularity</th>\n",
              "      <td>4802</td>\n",
              "    </tr>\n",
              "    <tr>\n",
              "      <th>production_companies</th>\n",
              "      <td>3697</td>\n",
              "    </tr>\n",
              "    <tr>\n",
              "      <th>production_countries</th>\n",
              "      <td>469</td>\n",
              "    </tr>\n",
              "    <tr>\n",
              "      <th>release_date</th>\n",
              "      <td>3280</td>\n",
              "    </tr>\n",
              "    <tr>\n",
              "      <th>revenue</th>\n",
              "      <td>3297</td>\n",
              "    </tr>\n",
              "    <tr>\n",
              "      <th>runtime</th>\n",
              "      <td>156</td>\n",
              "    </tr>\n",
              "    <tr>\n",
              "      <th>spoken_languages</th>\n",
              "      <td>544</td>\n",
              "    </tr>\n",
              "    <tr>\n",
              "      <th>status</th>\n",
              "      <td>3</td>\n",
              "    </tr>\n",
              "    <tr>\n",
              "      <th>tagline</th>\n",
              "      <td>3944</td>\n",
              "    </tr>\n",
              "    <tr>\n",
              "      <th>title</th>\n",
              "      <td>4800</td>\n",
              "    </tr>\n",
              "    <tr>\n",
              "      <th>vote_average</th>\n",
              "      <td>71</td>\n",
              "    </tr>\n",
              "    <tr>\n",
              "      <th>vote_count</th>\n",
              "      <td>1609</td>\n",
              "    </tr>\n",
              "  </tbody>\n",
              "</table>\n",
              "</div><br><label><b>dtype:</b> int64</label>"
            ]
          },
          "metadata": {},
          "execution_count": 18
        }
      ]
    },
    {
      "cell_type": "code",
      "source": [
        "credits_df.nunique()"
      ],
      "metadata": {
        "colab": {
          "base_uri": "https://localhost:8080/",
          "height": 210
        },
        "id": "yCg6BkRmYKW9",
        "outputId": "c4412508-7000-4be7-8ba9-7d81b259d7f6"
      },
      "execution_count": 19,
      "outputs": [
        {
          "output_type": "execute_result",
          "data": {
            "text/plain": [
              "movie_id    4803\n",
              "title       4800\n",
              "cast        4761\n",
              "crew        4776\n",
              "dtype: int64"
            ],
            "text/html": [
              "<div>\n",
              "<style scoped>\n",
              "    .dataframe tbody tr th:only-of-type {\n",
              "        vertical-align: middle;\n",
              "    }\n",
              "\n",
              "    .dataframe tbody tr th {\n",
              "        vertical-align: top;\n",
              "    }\n",
              "\n",
              "    .dataframe thead th {\n",
              "        text-align: right;\n",
              "    }\n",
              "</style>\n",
              "<table border=\"1\" class=\"dataframe\">\n",
              "  <thead>\n",
              "    <tr style=\"text-align: right;\">\n",
              "      <th></th>\n",
              "      <th>0</th>\n",
              "    </tr>\n",
              "  </thead>\n",
              "  <tbody>\n",
              "    <tr>\n",
              "      <th>movie_id</th>\n",
              "      <td>4803</td>\n",
              "    </tr>\n",
              "    <tr>\n",
              "      <th>title</th>\n",
              "      <td>4800</td>\n",
              "    </tr>\n",
              "    <tr>\n",
              "      <th>cast</th>\n",
              "      <td>4761</td>\n",
              "    </tr>\n",
              "    <tr>\n",
              "      <th>crew</th>\n",
              "      <td>4776</td>\n",
              "    </tr>\n",
              "  </tbody>\n",
              "</table>\n",
              "</div><br><label><b>dtype:</b> int64</label>"
            ]
          },
          "metadata": {},
          "execution_count": 19
        }
      ]
    },
    {
      "cell_type": "code",
      "source": [
        "movies_df.describe()"
      ],
      "metadata": {
        "colab": {
          "base_uri": "https://localhost:8080/",
          "height": 300
        },
        "id": "yIgq-a5GYNE4",
        "outputId": "98993d51-45e1-4ad8-e708-5a35f1508fe6"
      },
      "execution_count": 20,
      "outputs": [
        {
          "output_type": "execute_result",
          "data": {
            "text/plain": [
              "             budget             id   popularity       revenue      runtime  \\\n",
              "count  4.803000e+03    4803.000000  4803.000000  4.803000e+03  4801.000000   \n",
              "mean   2.904504e+07   57165.484281    21.492301  8.226064e+07   106.875859   \n",
              "std    4.072239e+07   88694.614033    31.816650  1.628571e+08    22.611935   \n",
              "min    0.000000e+00       5.000000     0.000000  0.000000e+00     0.000000   \n",
              "25%    7.900000e+05    9014.500000     4.668070  0.000000e+00    94.000000   \n",
              "50%    1.500000e+07   14629.000000    12.921594  1.917000e+07   103.000000   \n",
              "75%    4.000000e+07   58610.500000    28.313505  9.291719e+07   118.000000   \n",
              "max    3.800000e+08  459488.000000   875.581305  2.787965e+09   338.000000   \n",
              "\n",
              "       vote_average    vote_count  \n",
              "count   4803.000000   4803.000000  \n",
              "mean       6.092172    690.217989  \n",
              "std        1.194612   1234.585891  \n",
              "min        0.000000      0.000000  \n",
              "25%        5.600000     54.000000  \n",
              "50%        6.200000    235.000000  \n",
              "75%        6.800000    737.000000  \n",
              "max       10.000000  13752.000000  "
            ],
            "text/html": [
              "\n",
              "  <div id=\"df-6a7f4d2a-8444-4858-b7c4-0ba091cce109\" class=\"colab-df-container\">\n",
              "    <div>\n",
              "<style scoped>\n",
              "    .dataframe tbody tr th:only-of-type {\n",
              "        vertical-align: middle;\n",
              "    }\n",
              "\n",
              "    .dataframe tbody tr th {\n",
              "        vertical-align: top;\n",
              "    }\n",
              "\n",
              "    .dataframe thead th {\n",
              "        text-align: right;\n",
              "    }\n",
              "</style>\n",
              "<table border=\"1\" class=\"dataframe\">\n",
              "  <thead>\n",
              "    <tr style=\"text-align: right;\">\n",
              "      <th></th>\n",
              "      <th>budget</th>\n",
              "      <th>id</th>\n",
              "      <th>popularity</th>\n",
              "      <th>revenue</th>\n",
              "      <th>runtime</th>\n",
              "      <th>vote_average</th>\n",
              "      <th>vote_count</th>\n",
              "    </tr>\n",
              "  </thead>\n",
              "  <tbody>\n",
              "    <tr>\n",
              "      <th>count</th>\n",
              "      <td>4.803000e+03</td>\n",
              "      <td>4803.000000</td>\n",
              "      <td>4803.000000</td>\n",
              "      <td>4.803000e+03</td>\n",
              "      <td>4801.000000</td>\n",
              "      <td>4803.000000</td>\n",
              "      <td>4803.000000</td>\n",
              "    </tr>\n",
              "    <tr>\n",
              "      <th>mean</th>\n",
              "      <td>2.904504e+07</td>\n",
              "      <td>57165.484281</td>\n",
              "      <td>21.492301</td>\n",
              "      <td>8.226064e+07</td>\n",
              "      <td>106.875859</td>\n",
              "      <td>6.092172</td>\n",
              "      <td>690.217989</td>\n",
              "    </tr>\n",
              "    <tr>\n",
              "      <th>std</th>\n",
              "      <td>4.072239e+07</td>\n",
              "      <td>88694.614033</td>\n",
              "      <td>31.816650</td>\n",
              "      <td>1.628571e+08</td>\n",
              "      <td>22.611935</td>\n",
              "      <td>1.194612</td>\n",
              "      <td>1234.585891</td>\n",
              "    </tr>\n",
              "    <tr>\n",
              "      <th>min</th>\n",
              "      <td>0.000000e+00</td>\n",
              "      <td>5.000000</td>\n",
              "      <td>0.000000</td>\n",
              "      <td>0.000000e+00</td>\n",
              "      <td>0.000000</td>\n",
              "      <td>0.000000</td>\n",
              "      <td>0.000000</td>\n",
              "    </tr>\n",
              "    <tr>\n",
              "      <th>25%</th>\n",
              "      <td>7.900000e+05</td>\n",
              "      <td>9014.500000</td>\n",
              "      <td>4.668070</td>\n",
              "      <td>0.000000e+00</td>\n",
              "      <td>94.000000</td>\n",
              "      <td>5.600000</td>\n",
              "      <td>54.000000</td>\n",
              "    </tr>\n",
              "    <tr>\n",
              "      <th>50%</th>\n",
              "      <td>1.500000e+07</td>\n",
              "      <td>14629.000000</td>\n",
              "      <td>12.921594</td>\n",
              "      <td>1.917000e+07</td>\n",
              "      <td>103.000000</td>\n",
              "      <td>6.200000</td>\n",
              "      <td>235.000000</td>\n",
              "    </tr>\n",
              "    <tr>\n",
              "      <th>75%</th>\n",
              "      <td>4.000000e+07</td>\n",
              "      <td>58610.500000</td>\n",
              "      <td>28.313505</td>\n",
              "      <td>9.291719e+07</td>\n",
              "      <td>118.000000</td>\n",
              "      <td>6.800000</td>\n",
              "      <td>737.000000</td>\n",
              "    </tr>\n",
              "    <tr>\n",
              "      <th>max</th>\n",
              "      <td>3.800000e+08</td>\n",
              "      <td>459488.000000</td>\n",
              "      <td>875.581305</td>\n",
              "      <td>2.787965e+09</td>\n",
              "      <td>338.000000</td>\n",
              "      <td>10.000000</td>\n",
              "      <td>13752.000000</td>\n",
              "    </tr>\n",
              "  </tbody>\n",
              "</table>\n",
              "</div>\n",
              "    <div class=\"colab-df-buttons\">\n",
              "\n",
              "  <div class=\"colab-df-container\">\n",
              "    <button class=\"colab-df-convert\" onclick=\"convertToInteractive('df-6a7f4d2a-8444-4858-b7c4-0ba091cce109')\"\n",
              "            title=\"Convert this dataframe to an interactive table.\"\n",
              "            style=\"display:none;\">\n",
              "\n",
              "  <svg xmlns=\"http://www.w3.org/2000/svg\" height=\"24px\" viewBox=\"0 -960 960 960\">\n",
              "    <path d=\"M120-120v-720h720v720H120Zm60-500h600v-160H180v160Zm220 220h160v-160H400v160Zm0 220h160v-160H400v160ZM180-400h160v-160H180v160Zm440 0h160v-160H620v160ZM180-180h160v-160H180v160Zm440 0h160v-160H620v160Z\"/>\n",
              "  </svg>\n",
              "    </button>\n",
              "\n",
              "  <style>\n",
              "    .colab-df-container {\n",
              "      display:flex;\n",
              "      gap: 12px;\n",
              "    }\n",
              "\n",
              "    .colab-df-convert {\n",
              "      background-color: #E8F0FE;\n",
              "      border: none;\n",
              "      border-radius: 50%;\n",
              "      cursor: pointer;\n",
              "      display: none;\n",
              "      fill: #1967D2;\n",
              "      height: 32px;\n",
              "      padding: 0 0 0 0;\n",
              "      width: 32px;\n",
              "    }\n",
              "\n",
              "    .colab-df-convert:hover {\n",
              "      background-color: #E2EBFA;\n",
              "      box-shadow: 0px 1px 2px rgba(60, 64, 67, 0.3), 0px 1px 3px 1px rgba(60, 64, 67, 0.15);\n",
              "      fill: #174EA6;\n",
              "    }\n",
              "\n",
              "    .colab-df-buttons div {\n",
              "      margin-bottom: 4px;\n",
              "    }\n",
              "\n",
              "    [theme=dark] .colab-df-convert {\n",
              "      background-color: #3B4455;\n",
              "      fill: #D2E3FC;\n",
              "    }\n",
              "\n",
              "    [theme=dark] .colab-df-convert:hover {\n",
              "      background-color: #434B5C;\n",
              "      box-shadow: 0px 1px 3px 1px rgba(0, 0, 0, 0.15);\n",
              "      filter: drop-shadow(0px 1px 2px rgba(0, 0, 0, 0.3));\n",
              "      fill: #FFFFFF;\n",
              "    }\n",
              "  </style>\n",
              "\n",
              "    <script>\n",
              "      const buttonEl =\n",
              "        document.querySelector('#df-6a7f4d2a-8444-4858-b7c4-0ba091cce109 button.colab-df-convert');\n",
              "      buttonEl.style.display =\n",
              "        google.colab.kernel.accessAllowed ? 'block' : 'none';\n",
              "\n",
              "      async function convertToInteractive(key) {\n",
              "        const element = document.querySelector('#df-6a7f4d2a-8444-4858-b7c4-0ba091cce109');\n",
              "        const dataTable =\n",
              "          await google.colab.kernel.invokeFunction('convertToInteractive',\n",
              "                                                    [key], {});\n",
              "        if (!dataTable) return;\n",
              "\n",
              "        const docLinkHtml = 'Like what you see? Visit the ' +\n",
              "          '<a target=\"_blank\" href=https://colab.research.google.com/notebooks/data_table.ipynb>data table notebook</a>'\n",
              "          + ' to learn more about interactive tables.';\n",
              "        element.innerHTML = '';\n",
              "        dataTable['output_type'] = 'display_data';\n",
              "        await google.colab.output.renderOutput(dataTable, element);\n",
              "        const docLink = document.createElement('div');\n",
              "        docLink.innerHTML = docLinkHtml;\n",
              "        element.appendChild(docLink);\n",
              "      }\n",
              "    </script>\n",
              "  </div>\n",
              "\n",
              "\n",
              "<div id=\"df-5caf03c0-6b26-4a0c-bb4d-f324b63b5d8c\">\n",
              "  <button class=\"colab-df-quickchart\" onclick=\"quickchart('df-5caf03c0-6b26-4a0c-bb4d-f324b63b5d8c')\"\n",
              "            title=\"Suggest charts\"\n",
              "            style=\"display:none;\">\n",
              "\n",
              "<svg xmlns=\"http://www.w3.org/2000/svg\" height=\"24px\"viewBox=\"0 0 24 24\"\n",
              "     width=\"24px\">\n",
              "    <g>\n",
              "        <path d=\"M19 3H5c-1.1 0-2 .9-2 2v14c0 1.1.9 2 2 2h14c1.1 0 2-.9 2-2V5c0-1.1-.9-2-2-2zM9 17H7v-7h2v7zm4 0h-2V7h2v10zm4 0h-2v-4h2v4z\"/>\n",
              "    </g>\n",
              "</svg>\n",
              "  </button>\n",
              "\n",
              "<style>\n",
              "  .colab-df-quickchart {\n",
              "      --bg-color: #E8F0FE;\n",
              "      --fill-color: #1967D2;\n",
              "      --hover-bg-color: #E2EBFA;\n",
              "      --hover-fill-color: #174EA6;\n",
              "      --disabled-fill-color: #AAA;\n",
              "      --disabled-bg-color: #DDD;\n",
              "  }\n",
              "\n",
              "  [theme=dark] .colab-df-quickchart {\n",
              "      --bg-color: #3B4455;\n",
              "      --fill-color: #D2E3FC;\n",
              "      --hover-bg-color: #434B5C;\n",
              "      --hover-fill-color: #FFFFFF;\n",
              "      --disabled-bg-color: #3B4455;\n",
              "      --disabled-fill-color: #666;\n",
              "  }\n",
              "\n",
              "  .colab-df-quickchart {\n",
              "    background-color: var(--bg-color);\n",
              "    border: none;\n",
              "    border-radius: 50%;\n",
              "    cursor: pointer;\n",
              "    display: none;\n",
              "    fill: var(--fill-color);\n",
              "    height: 32px;\n",
              "    padding: 0;\n",
              "    width: 32px;\n",
              "  }\n",
              "\n",
              "  .colab-df-quickchart:hover {\n",
              "    background-color: var(--hover-bg-color);\n",
              "    box-shadow: 0 1px 2px rgba(60, 64, 67, 0.3), 0 1px 3px 1px rgba(60, 64, 67, 0.15);\n",
              "    fill: var(--button-hover-fill-color);\n",
              "  }\n",
              "\n",
              "  .colab-df-quickchart-complete:disabled,\n",
              "  .colab-df-quickchart-complete:disabled:hover {\n",
              "    background-color: var(--disabled-bg-color);\n",
              "    fill: var(--disabled-fill-color);\n",
              "    box-shadow: none;\n",
              "  }\n",
              "\n",
              "  .colab-df-spinner {\n",
              "    border: 2px solid var(--fill-color);\n",
              "    border-color: transparent;\n",
              "    border-bottom-color: var(--fill-color);\n",
              "    animation:\n",
              "      spin 1s steps(1) infinite;\n",
              "  }\n",
              "\n",
              "  @keyframes spin {\n",
              "    0% {\n",
              "      border-color: transparent;\n",
              "      border-bottom-color: var(--fill-color);\n",
              "      border-left-color: var(--fill-color);\n",
              "    }\n",
              "    20% {\n",
              "      border-color: transparent;\n",
              "      border-left-color: var(--fill-color);\n",
              "      border-top-color: var(--fill-color);\n",
              "    }\n",
              "    30% {\n",
              "      border-color: transparent;\n",
              "      border-left-color: var(--fill-color);\n",
              "      border-top-color: var(--fill-color);\n",
              "      border-right-color: var(--fill-color);\n",
              "    }\n",
              "    40% {\n",
              "      border-color: transparent;\n",
              "      border-right-color: var(--fill-color);\n",
              "      border-top-color: var(--fill-color);\n",
              "    }\n",
              "    60% {\n",
              "      border-color: transparent;\n",
              "      border-right-color: var(--fill-color);\n",
              "    }\n",
              "    80% {\n",
              "      border-color: transparent;\n",
              "      border-right-color: var(--fill-color);\n",
              "      border-bottom-color: var(--fill-color);\n",
              "    }\n",
              "    90% {\n",
              "      border-color: transparent;\n",
              "      border-bottom-color: var(--fill-color);\n",
              "    }\n",
              "  }\n",
              "</style>\n",
              "\n",
              "  <script>\n",
              "    async function quickchart(key) {\n",
              "      const quickchartButtonEl =\n",
              "        document.querySelector('#' + key + ' button');\n",
              "      quickchartButtonEl.disabled = true;  // To prevent multiple clicks.\n",
              "      quickchartButtonEl.classList.add('colab-df-spinner');\n",
              "      try {\n",
              "        const charts = await google.colab.kernel.invokeFunction(\n",
              "            'suggestCharts', [key], {});\n",
              "      } catch (error) {\n",
              "        console.error('Error during call to suggestCharts:', error);\n",
              "      }\n",
              "      quickchartButtonEl.classList.remove('colab-df-spinner');\n",
              "      quickchartButtonEl.classList.add('colab-df-quickchart-complete');\n",
              "    }\n",
              "    (() => {\n",
              "      let quickchartButtonEl =\n",
              "        document.querySelector('#df-5caf03c0-6b26-4a0c-bb4d-f324b63b5d8c button');\n",
              "      quickchartButtonEl.style.display =\n",
              "        google.colab.kernel.accessAllowed ? 'block' : 'none';\n",
              "    })();\n",
              "  </script>\n",
              "</div>\n",
              "\n",
              "    </div>\n",
              "  </div>\n"
            ],
            "application/vnd.google.colaboratory.intrinsic+json": {
              "type": "dataframe",
              "summary": "{\n  \"name\": \"movies_df\",\n  \"rows\": 8,\n  \"fields\": [\n    {\n      \"column\": \"budget\",\n      \"properties\": {\n        \"dtype\": \"number\",\n        \"std\": 129161253.05847104,\n        \"min\": 0.0,\n        \"max\": 380000000.0,\n        \"num_unique_values\": 8,\n        \"samples\": [\n          29045039.87528628,\n          15000000.0,\n          4803.0\n        ],\n        \"semantic_type\": \"\",\n        \"description\": \"\"\n      }\n    },\n    {\n      \"column\": \"id\",\n      \"properties\": {\n        \"dtype\": \"number\",\n        \"std\": 154035.43639610297,\n        \"min\": 5.0,\n        \"max\": 459488.0,\n        \"num_unique_values\": 8,\n        \"samples\": [\n          57165.484280657925,\n          14629.0,\n          4803.0\n        ],\n        \"semantic_type\": \"\",\n        \"description\": \"\"\n      }\n    },\n    {\n      \"column\": \"popularity\",\n      \"properties\": {\n        \"dtype\": \"number\",\n        \"std\": 1676.09470184157,\n        \"min\": 0.0,\n        \"max\": 4803.0,\n        \"num_unique_values\": 8,\n        \"samples\": [\n          21.492300588174057,\n          12.921594,\n          4803.0\n        ],\n        \"semantic_type\": \"\",\n        \"description\": \"\"\n      }\n    },\n    {\n      \"column\": \"revenue\",\n      \"properties\": {\n        \"dtype\": \"number\",\n        \"std\": 969427230.5834863,\n        \"min\": 0.0,\n        \"max\": 2787965087.0,\n        \"num_unique_values\": 7,\n        \"samples\": [\n          4803.0,\n          82260638.65167603,\n          92917187.0\n        ],\n        \"semantic_type\": \"\",\n        \"description\": \"\"\n      }\n    },\n    {\n      \"column\": \"runtime\",\n      \"properties\": {\n        \"dtype\": \"number\",\n        \"std\": 1660.9907007543372,\n        \"min\": 0.0,\n        \"max\": 4801.0,\n        \"num_unique_values\": 8,\n        \"samples\": [\n          106.87585919600083,\n          103.0,\n          4801.0\n        ],\n        \"semantic_type\": \"\",\n        \"description\": \"\"\n      }\n    },\n    {\n      \"column\": \"vote_average\",\n      \"properties\": {\n        \"dtype\": \"number\",\n        \"std\": 1696.3073516335521,\n        \"min\": 0.0,\n        \"max\": 4803.0,\n        \"num_unique_values\": 8,\n        \"samples\": [\n          6.092171559442016,\n          6.2,\n          4803.0\n        ],\n        \"semantic_type\": \"\",\n        \"description\": \"\"\n      }\n    },\n    {\n      \"column\": \"vote_count\",\n      \"properties\": {\n        \"dtype\": \"number\",\n        \"std\": 4735.515903869439,\n        \"min\": 0.0,\n        \"max\": 13752.0,\n        \"num_unique_values\": 8,\n        \"samples\": [\n          690.2179887570269,\n          235.0,\n          4803.0\n        ],\n        \"semantic_type\": \"\",\n        \"description\": \"\"\n      }\n    }\n  ]\n}"
            }
          },
          "metadata": {},
          "execution_count": 20
        }
      ]
    },
    {
      "cell_type": "code",
      "source": [
        "credits_df.describe()"
      ],
      "metadata": {
        "colab": {
          "base_uri": "https://localhost:8080/",
          "height": 300
        },
        "id": "Z-dCpJyyYNe9",
        "outputId": "97c85e3a-9a8b-4aff-fb7f-c36dbf1ce6d4"
      },
      "execution_count": 21,
      "outputs": [
        {
          "output_type": "execute_result",
          "data": {
            "text/plain": [
              "            movie_id\n",
              "count    4803.000000\n",
              "mean    57165.484281\n",
              "std     88694.614033\n",
              "min         5.000000\n",
              "25%      9014.500000\n",
              "50%     14629.000000\n",
              "75%     58610.500000\n",
              "max    459488.000000"
            ],
            "text/html": [
              "\n",
              "  <div id=\"df-c471ecf4-fea4-4f55-befa-8751274e2438\" class=\"colab-df-container\">\n",
              "    <div>\n",
              "<style scoped>\n",
              "    .dataframe tbody tr th:only-of-type {\n",
              "        vertical-align: middle;\n",
              "    }\n",
              "\n",
              "    .dataframe tbody tr th {\n",
              "        vertical-align: top;\n",
              "    }\n",
              "\n",
              "    .dataframe thead th {\n",
              "        text-align: right;\n",
              "    }\n",
              "</style>\n",
              "<table border=\"1\" class=\"dataframe\">\n",
              "  <thead>\n",
              "    <tr style=\"text-align: right;\">\n",
              "      <th></th>\n",
              "      <th>movie_id</th>\n",
              "    </tr>\n",
              "  </thead>\n",
              "  <tbody>\n",
              "    <tr>\n",
              "      <th>count</th>\n",
              "      <td>4803.000000</td>\n",
              "    </tr>\n",
              "    <tr>\n",
              "      <th>mean</th>\n",
              "      <td>57165.484281</td>\n",
              "    </tr>\n",
              "    <tr>\n",
              "      <th>std</th>\n",
              "      <td>88694.614033</td>\n",
              "    </tr>\n",
              "    <tr>\n",
              "      <th>min</th>\n",
              "      <td>5.000000</td>\n",
              "    </tr>\n",
              "    <tr>\n",
              "      <th>25%</th>\n",
              "      <td>9014.500000</td>\n",
              "    </tr>\n",
              "    <tr>\n",
              "      <th>50%</th>\n",
              "      <td>14629.000000</td>\n",
              "    </tr>\n",
              "    <tr>\n",
              "      <th>75%</th>\n",
              "      <td>58610.500000</td>\n",
              "    </tr>\n",
              "    <tr>\n",
              "      <th>max</th>\n",
              "      <td>459488.000000</td>\n",
              "    </tr>\n",
              "  </tbody>\n",
              "</table>\n",
              "</div>\n",
              "    <div class=\"colab-df-buttons\">\n",
              "\n",
              "  <div class=\"colab-df-container\">\n",
              "    <button class=\"colab-df-convert\" onclick=\"convertToInteractive('df-c471ecf4-fea4-4f55-befa-8751274e2438')\"\n",
              "            title=\"Convert this dataframe to an interactive table.\"\n",
              "            style=\"display:none;\">\n",
              "\n",
              "  <svg xmlns=\"http://www.w3.org/2000/svg\" height=\"24px\" viewBox=\"0 -960 960 960\">\n",
              "    <path d=\"M120-120v-720h720v720H120Zm60-500h600v-160H180v160Zm220 220h160v-160H400v160Zm0 220h160v-160H400v160ZM180-400h160v-160H180v160Zm440 0h160v-160H620v160ZM180-180h160v-160H180v160Zm440 0h160v-160H620v160Z\"/>\n",
              "  </svg>\n",
              "    </button>\n",
              "\n",
              "  <style>\n",
              "    .colab-df-container {\n",
              "      display:flex;\n",
              "      gap: 12px;\n",
              "    }\n",
              "\n",
              "    .colab-df-convert {\n",
              "      background-color: #E8F0FE;\n",
              "      border: none;\n",
              "      border-radius: 50%;\n",
              "      cursor: pointer;\n",
              "      display: none;\n",
              "      fill: #1967D2;\n",
              "      height: 32px;\n",
              "      padding: 0 0 0 0;\n",
              "      width: 32px;\n",
              "    }\n",
              "\n",
              "    .colab-df-convert:hover {\n",
              "      background-color: #E2EBFA;\n",
              "      box-shadow: 0px 1px 2px rgba(60, 64, 67, 0.3), 0px 1px 3px 1px rgba(60, 64, 67, 0.15);\n",
              "      fill: #174EA6;\n",
              "    }\n",
              "\n",
              "    .colab-df-buttons div {\n",
              "      margin-bottom: 4px;\n",
              "    }\n",
              "\n",
              "    [theme=dark] .colab-df-convert {\n",
              "      background-color: #3B4455;\n",
              "      fill: #D2E3FC;\n",
              "    }\n",
              "\n",
              "    [theme=dark] .colab-df-convert:hover {\n",
              "      background-color: #434B5C;\n",
              "      box-shadow: 0px 1px 3px 1px rgba(0, 0, 0, 0.15);\n",
              "      filter: drop-shadow(0px 1px 2px rgba(0, 0, 0, 0.3));\n",
              "      fill: #FFFFFF;\n",
              "    }\n",
              "  </style>\n",
              "\n",
              "    <script>\n",
              "      const buttonEl =\n",
              "        document.querySelector('#df-c471ecf4-fea4-4f55-befa-8751274e2438 button.colab-df-convert');\n",
              "      buttonEl.style.display =\n",
              "        google.colab.kernel.accessAllowed ? 'block' : 'none';\n",
              "\n",
              "      async function convertToInteractive(key) {\n",
              "        const element = document.querySelector('#df-c471ecf4-fea4-4f55-befa-8751274e2438');\n",
              "        const dataTable =\n",
              "          await google.colab.kernel.invokeFunction('convertToInteractive',\n",
              "                                                    [key], {});\n",
              "        if (!dataTable) return;\n",
              "\n",
              "        const docLinkHtml = 'Like what you see? Visit the ' +\n",
              "          '<a target=\"_blank\" href=https://colab.research.google.com/notebooks/data_table.ipynb>data table notebook</a>'\n",
              "          + ' to learn more about interactive tables.';\n",
              "        element.innerHTML = '';\n",
              "        dataTable['output_type'] = 'display_data';\n",
              "        await google.colab.output.renderOutput(dataTable, element);\n",
              "        const docLink = document.createElement('div');\n",
              "        docLink.innerHTML = docLinkHtml;\n",
              "        element.appendChild(docLink);\n",
              "      }\n",
              "    </script>\n",
              "  </div>\n",
              "\n",
              "\n",
              "<div id=\"df-b3ba91fb-fd6a-4aca-bee7-7822849e99b3\">\n",
              "  <button class=\"colab-df-quickchart\" onclick=\"quickchart('df-b3ba91fb-fd6a-4aca-bee7-7822849e99b3')\"\n",
              "            title=\"Suggest charts\"\n",
              "            style=\"display:none;\">\n",
              "\n",
              "<svg xmlns=\"http://www.w3.org/2000/svg\" height=\"24px\"viewBox=\"0 0 24 24\"\n",
              "     width=\"24px\">\n",
              "    <g>\n",
              "        <path d=\"M19 3H5c-1.1 0-2 .9-2 2v14c0 1.1.9 2 2 2h14c1.1 0 2-.9 2-2V5c0-1.1-.9-2-2-2zM9 17H7v-7h2v7zm4 0h-2V7h2v10zm4 0h-2v-4h2v4z\"/>\n",
              "    </g>\n",
              "</svg>\n",
              "  </button>\n",
              "\n",
              "<style>\n",
              "  .colab-df-quickchart {\n",
              "      --bg-color: #E8F0FE;\n",
              "      --fill-color: #1967D2;\n",
              "      --hover-bg-color: #E2EBFA;\n",
              "      --hover-fill-color: #174EA6;\n",
              "      --disabled-fill-color: #AAA;\n",
              "      --disabled-bg-color: #DDD;\n",
              "  }\n",
              "\n",
              "  [theme=dark] .colab-df-quickchart {\n",
              "      --bg-color: #3B4455;\n",
              "      --fill-color: #D2E3FC;\n",
              "      --hover-bg-color: #434B5C;\n",
              "      --hover-fill-color: #FFFFFF;\n",
              "      --disabled-bg-color: #3B4455;\n",
              "      --disabled-fill-color: #666;\n",
              "  }\n",
              "\n",
              "  .colab-df-quickchart {\n",
              "    background-color: var(--bg-color);\n",
              "    border: none;\n",
              "    border-radius: 50%;\n",
              "    cursor: pointer;\n",
              "    display: none;\n",
              "    fill: var(--fill-color);\n",
              "    height: 32px;\n",
              "    padding: 0;\n",
              "    width: 32px;\n",
              "  }\n",
              "\n",
              "  .colab-df-quickchart:hover {\n",
              "    background-color: var(--hover-bg-color);\n",
              "    box-shadow: 0 1px 2px rgba(60, 64, 67, 0.3), 0 1px 3px 1px rgba(60, 64, 67, 0.15);\n",
              "    fill: var(--button-hover-fill-color);\n",
              "  }\n",
              "\n",
              "  .colab-df-quickchart-complete:disabled,\n",
              "  .colab-df-quickchart-complete:disabled:hover {\n",
              "    background-color: var(--disabled-bg-color);\n",
              "    fill: var(--disabled-fill-color);\n",
              "    box-shadow: none;\n",
              "  }\n",
              "\n",
              "  .colab-df-spinner {\n",
              "    border: 2px solid var(--fill-color);\n",
              "    border-color: transparent;\n",
              "    border-bottom-color: var(--fill-color);\n",
              "    animation:\n",
              "      spin 1s steps(1) infinite;\n",
              "  }\n",
              "\n",
              "  @keyframes spin {\n",
              "    0% {\n",
              "      border-color: transparent;\n",
              "      border-bottom-color: var(--fill-color);\n",
              "      border-left-color: var(--fill-color);\n",
              "    }\n",
              "    20% {\n",
              "      border-color: transparent;\n",
              "      border-left-color: var(--fill-color);\n",
              "      border-top-color: var(--fill-color);\n",
              "    }\n",
              "    30% {\n",
              "      border-color: transparent;\n",
              "      border-left-color: var(--fill-color);\n",
              "      border-top-color: var(--fill-color);\n",
              "      border-right-color: var(--fill-color);\n",
              "    }\n",
              "    40% {\n",
              "      border-color: transparent;\n",
              "      border-right-color: var(--fill-color);\n",
              "      border-top-color: var(--fill-color);\n",
              "    }\n",
              "    60% {\n",
              "      border-color: transparent;\n",
              "      border-right-color: var(--fill-color);\n",
              "    }\n",
              "    80% {\n",
              "      border-color: transparent;\n",
              "      border-right-color: var(--fill-color);\n",
              "      border-bottom-color: var(--fill-color);\n",
              "    }\n",
              "    90% {\n",
              "      border-color: transparent;\n",
              "      border-bottom-color: var(--fill-color);\n",
              "    }\n",
              "  }\n",
              "</style>\n",
              "\n",
              "  <script>\n",
              "    async function quickchart(key) {\n",
              "      const quickchartButtonEl =\n",
              "        document.querySelector('#' + key + ' button');\n",
              "      quickchartButtonEl.disabled = true;  // To prevent multiple clicks.\n",
              "      quickchartButtonEl.classList.add('colab-df-spinner');\n",
              "      try {\n",
              "        const charts = await google.colab.kernel.invokeFunction(\n",
              "            'suggestCharts', [key], {});\n",
              "      } catch (error) {\n",
              "        console.error('Error during call to suggestCharts:', error);\n",
              "      }\n",
              "      quickchartButtonEl.classList.remove('colab-df-spinner');\n",
              "      quickchartButtonEl.classList.add('colab-df-quickchart-complete');\n",
              "    }\n",
              "    (() => {\n",
              "      let quickchartButtonEl =\n",
              "        document.querySelector('#df-b3ba91fb-fd6a-4aca-bee7-7822849e99b3 button');\n",
              "      quickchartButtonEl.style.display =\n",
              "        google.colab.kernel.accessAllowed ? 'block' : 'none';\n",
              "    })();\n",
              "  </script>\n",
              "</div>\n",
              "\n",
              "    </div>\n",
              "  </div>\n"
            ],
            "application/vnd.google.colaboratory.intrinsic+json": {
              "type": "dataframe",
              "summary": "{\n  \"name\": \"credits_df\",\n  \"rows\": 8,\n  \"fields\": [\n    {\n      \"column\": \"movie_id\",\n      \"properties\": {\n        \"dtype\": \"number\",\n        \"std\": 154035.43639610297,\n        \"min\": 5.0,\n        \"max\": 459488.0,\n        \"num_unique_values\": 8,\n        \"samples\": [\n          57165.484280657925,\n          14629.0,\n          4803.0\n        ],\n        \"semantic_type\": \"\",\n        \"description\": \"\"\n      }\n    }\n  ]\n}"
            }
          },
          "metadata": {},
          "execution_count": 21
        }
      ]
    },
    {
      "cell_type": "code",
      "source": [
        "movies_df.info()"
      ],
      "metadata": {
        "colab": {
          "base_uri": "https://localhost:8080/"
        },
        "id": "HCIaH5FYYN6l",
        "outputId": "151711e5-4c8a-4da6-d77a-bf58ed1a4338"
      },
      "execution_count": 22,
      "outputs": [
        {
          "output_type": "stream",
          "name": "stdout",
          "text": [
            "<class 'pandas.core.frame.DataFrame'>\n",
            "RangeIndex: 4803 entries, 0 to 4802\n",
            "Data columns (total 20 columns):\n",
            " #   Column                Non-Null Count  Dtype  \n",
            "---  ------                --------------  -----  \n",
            " 0   budget                4803 non-null   int64  \n",
            " 1   genres                4803 non-null   object \n",
            " 2   homepage              1712 non-null   object \n",
            " 3   id                    4803 non-null   int64  \n",
            " 4   keywords              4803 non-null   object \n",
            " 5   original_language     4803 non-null   object \n",
            " 6   original_title        4803 non-null   object \n",
            " 7   overview              4800 non-null   object \n",
            " 8   popularity            4803 non-null   float64\n",
            " 9   production_companies  4803 non-null   object \n",
            " 10  production_countries  4803 non-null   object \n",
            " 11  release_date          4802 non-null   object \n",
            " 12  revenue               4803 non-null   int64  \n",
            " 13  runtime               4801 non-null   float64\n",
            " 14  spoken_languages      4803 non-null   object \n",
            " 15  status                4803 non-null   object \n",
            " 16  tagline               3959 non-null   object \n",
            " 17  title                 4803 non-null   object \n",
            " 18  vote_average          4803 non-null   float64\n",
            " 19  vote_count            4803 non-null   int64  \n",
            "dtypes: float64(3), int64(4), object(13)\n",
            "memory usage: 750.6+ KB\n"
          ]
        }
      ]
    },
    {
      "cell_type": "code",
      "source": [
        "credits_df.info()"
      ],
      "metadata": {
        "colab": {
          "base_uri": "https://localhost:8080/"
        },
        "id": "D86VkOCcYOFL",
        "outputId": "3b687760-c096-46de-e902-4088488c41b0"
      },
      "execution_count": 23,
      "outputs": [
        {
          "output_type": "stream",
          "name": "stdout",
          "text": [
            "<class 'pandas.core.frame.DataFrame'>\n",
            "RangeIndex: 4803 entries, 0 to 4802\n",
            "Data columns (total 4 columns):\n",
            " #   Column    Non-Null Count  Dtype \n",
            "---  ------    --------------  ----- \n",
            " 0   movie_id  4803 non-null   int64 \n",
            " 1   title     4803 non-null   object\n",
            " 2   cast      4803 non-null   object\n",
            " 3   crew      4803 non-null   object\n",
            "dtypes: int64(1), object(3)\n",
            "memory usage: 150.2+ KB\n"
          ]
        }
      ]
    },
    {
      "cell_type": "code",
      "source": [
        "movies_df.hist(figsize=(15,15))"
      ],
      "metadata": {
        "colab": {
          "base_uri": "https://localhost:8080/",
          "height": 1000
        },
        "id": "-WOTmgbCZ3P1",
        "outputId": "ffeb9707-61e4-4832-b323-4178d48b6923"
      },
      "execution_count": 24,
      "outputs": [
        {
          "output_type": "execute_result",
          "data": {
            "text/plain": [
              "array([[<Axes: title={'center': 'budget'}>,\n",
              "        <Axes: title={'center': 'id'}>,\n",
              "        <Axes: title={'center': 'popularity'}>],\n",
              "       [<Axes: title={'center': 'revenue'}>,\n",
              "        <Axes: title={'center': 'runtime'}>,\n",
              "        <Axes: title={'center': 'vote_average'}>],\n",
              "       [<Axes: title={'center': 'vote_count'}>, <Axes: >, <Axes: >]],\n",
              "      dtype=object)"
            ]
          },
          "metadata": {},
          "execution_count": 24
        },
        {
          "output_type": "display_data",
          "data": {
            "text/plain": [
              "<Figure size 1500x1500 with 9 Axes>"
            ],
            "image/png": "[encoded data removed]"
          },
          "metadata": {}
        }
      ]
    },
    {
      "cell_type": "code",
      "source": [
        "credits_df.hist(figsize=(15,15))"
      ],
      "metadata": {
        "colab": {
          "base_uri": "https://localhost:8080/",
          "height": 1000
        },
        "id": "KfI_Gj0lZ3yZ",
        "outputId": "6cf92c98-2d7f-4c26-e2ba-a7f23f167af9"
      },
      "execution_count": 25,
      "outputs": [
        {
          "output_type": "execute_result",
          "data": {
            "text/plain": [
              "array([[<Axes: title={'center': 'movie_id'}>]], dtype=object)"
            ]
          },
          "metadata": {},
          "execution_count": 25
        },
        {
          "output_type": "display_data",
          "data": {
            "text/plain": [
              "<Figure size 1500x1500 with 1 Axes>"
            ],
            "image/png": "[encoded data removed]"
          },
          "metadata": {}
        }
      ]
    },
    {
      "cell_type": "code",
      "source": [
        "x = movies_df['budget']\n",
        "y = movies_df['popularity']\n",
        "\n",
        "plt.scatter(x,y)\n",
        "plt.title('Average Popularity by Different budget',fontsize=12)\n",
        "plt.xlabel('budgete',fontsize=10)\n",
        "plt.ylabel('popularity',fontsize=10)"
      ],
      "metadata": {
        "colab": {
          "base_uri": "https://localhost:8080/",
          "height": 489
        },
        "id": "U0vA3rSiYOP_",
        "outputId": "eae85a08-e167-4c17-f69b-053074455e64"
      },
      "execution_count": 27,
      "outputs": [
        {
          "output_type": "execute_result",
          "data": {
            "text/plain": [
              "Text(0, 0.5, 'popularity')"
            ]
          },
          "metadata": {},
          "execution_count": 27
        },
        {
          "output_type": "display_data",
          "data": {
            "text/plain": [
              "<Figure size 640x480 with 1 Axes>"
            ],
            "image/png": "[encoded data removed]"
          },
          "metadata": {}
        }
      ]
    },
    {
      "cell_type": "code",
      "source": [
        "m = movies_df['budget'].median()\n",
        "low_budg =  movies_df.query('budget < {}'.format(m))\n",
        "high_budg =  movies_df.query('budget >= {}'.format(m))"
      ],
      "metadata": {
        "id": "2-oRooIWaebx"
      },
      "execution_count": 29,
      "outputs": []
    },
    {
      "cell_type": "code",
      "source": [
        "mean_popularity_of_low_budget = low_budg['popularity'].mean()\n",
        "mean_popularity_of_high_budget = high_budg['popularity'].mean()"
      ],
      "metadata": {
        "id": "47Fj0CynafhN"
      },
      "execution_count": 31,
      "outputs": []
    },
    {
      "cell_type": "code",
      "source": [
        "locations = [1,2]\n",
        "heights = [mean_popularity_of_low_budget , mean_popularity_of_high_budget]\n",
        "labels=['low','high']\n",
        "plt.bar(locations, heights, tick_label = labels)\n",
        "plt.title('Average Popularity by Different Budget')\n",
        "plt.xlabel('Budgets')\n",
        "plt.ylabel('Average Popularity')"
      ],
      "metadata": {
        "colab": {
          "base_uri": "https://localhost:8080/",
          "height": 489
        },
        "id": "By6l7X90a2se",
        "outputId": "7f1f2d16-9afa-48c1-9ac5-8fc676786e55"
      },
      "execution_count": 32,
      "outputs": [
        {
          "output_type": "execute_result",
          "data": {
            "text/plain": [
              "Text(0, 0.5, 'Average Popularity')"
            ]
          },
          "metadata": {},
          "execution_count": 32
        },
        {
          "output_type": "display_data",
          "data": {
            "text/plain": [
              "<Figure size 640x480 with 1 Axes>"
            ],
            "image/png": "[encoded data removed]"
          },
          "metadata": {}
        }
      ]
    },
    {
      "cell_type": "code",
      "source": [
        "movies_df['release_year'] = pd.to_datetime(movies_df['release_date']).dt.year\n",
        "\n",
        "avg_runtime_by_year = movies_df.groupby('release_year')['runtime'].mean()\n",
        "\n",
        "avg_runtime_by_year"
      ],
      "metadata": {
        "colab": {
          "base_uri": "https://localhost:8080/",
          "height": 490
        },
        "id": "dOhWfdXca4Hz",
        "outputId": "5815eb6d-a333-4f8a-d941-5ab23bcb6b3f"
      },
      "execution_count": 38,
      "outputs": [
        {
          "output_type": "execute_result",
          "data": {
            "text/plain": [
              "release_year\n",
              "1916.0    197.000000\n",
              "1925.0    151.000000\n",
              "1927.0    153.000000\n",
              "1929.0    104.500000\n",
              "1930.0    127.000000\n",
              "             ...    \n",
              "2013.0    105.268398\n",
              "2014.0    102.113445\n",
              "2015.0    103.144860\n",
              "2016.0    107.625000\n",
              "2017.0    102.000000\n",
              "Name: runtime, Length: 90, dtype: float64"
            ],
            "text/html": [
              "<div>\n",
              "<style scoped>\n",
              "    .dataframe tbody tr th:only-of-type {\n",
              "        vertical-align: middle;\n",
              "    }\n",
              "\n",
              "    .dataframe tbody tr th {\n",
              "        vertical-align: top;\n",
              "    }\n",
              "\n",
              "    .dataframe thead th {\n",
              "        text-align: right;\n",
              "    }\n",
              "</style>\n",
              "<table border=\"1\" class=\"dataframe\">\n",
              "  <thead>\n",
              "    <tr style=\"text-align: right;\">\n",
              "      <th></th>\n",
              "      <th>runtime</th>\n",
              "    </tr>\n",
              "    <tr>\n",
              "      <th>release_year</th>\n",
              "      <th></th>\n",
              "    </tr>\n",
              "  </thead>\n",
              "  <tbody>\n",
              "    <tr>\n",
              "      <th>1916.0</th>\n",
              "      <td>197.000000</td>\n",
              "    </tr>\n",
              "    <tr>\n",
              "      <th>1925.0</th>\n",
              "      <td>151.000000</td>\n",
              "    </tr>\n",
              "    <tr>\n",
              "      <th>1927.0</th>\n",
              "      <td>153.000000</td>\n",
              "    </tr>\n",
              "    <tr>\n",
              "      <th>1929.0</th>\n",
              "      <td>104.500000</td>\n",
              "    </tr>\n",
              "    <tr>\n",
              "      <th>1930.0</th>\n",
              "      <td>127.000000</td>\n",
              "    </tr>\n",
              "    <tr>\n",
              "      <th>...</th>\n",
              "      <td>...</td>\n",
              "    </tr>\n",
              "    <tr>\n",
              "      <th>2013.0</th>\n",
              "      <td>105.268398</td>\n",
              "    </tr>\n",
              "    <tr>\n",
              "      <th>2014.0</th>\n",
              "      <td>102.113445</td>\n",
              "    </tr>\n",
              "    <tr>\n",
              "      <th>2015.0</th>\n",
              "      <td>103.144860</td>\n",
              "    </tr>\n",
              "    <tr>\n",
              "      <th>2016.0</th>\n",
              "      <td>107.625000</td>\n",
              "    </tr>\n",
              "    <tr>\n",
              "      <th>2017.0</th>\n",
              "      <td>102.000000</td>\n",
              "    </tr>\n",
              "  </tbody>\n",
              "</table>\n",
              "<p>90 rows × 1 columns</p>\n",
              "</div><br><label><b>dtype:</b> float64</label>"
            ]
          },
          "metadata": {},
          "execution_count": 38
        }
      ]
    },
    {
      "cell_type": "markdown",
      "source": [
        "1. What is the average runtime of movies over the years?\n",
        "\n",
        "In the early years (1916–1930), movies were longer, averaging 197 to 127 minutes.\n",
        "We can visualize this trend to see if runtimes have shortened in recent decades."
      ],
      "metadata": {
        "id": "kOnLeLFXc9i_"
      }
    },
    {
      "cell_type": "code",
      "source": [
        "def extract_director(crew_str):\n",
        "    try:\n",
        "        crew = ast.literal_eval(crew_str)\n",
        "        for member in crew:\n",
        "            if member['job'] == 'Director':\n",
        "                return member['name']\n",
        "    except:\n",
        "        return None\n",
        "\n",
        "credits_df['director'] = credits_df['crew'].apply(extract_director)\n",
        "\n",
        "movies_with_directors = movies_df.merge(credits_df[['movie_id', 'director']], left_on='id', right_on='movie_id', how='left')\n",
        "\n",
        "director_revenue = movies_with_directors.groupby('director')['revenue'].mean().nlargest(10)\n",
        "\n",
        "movies_with_directors , director_revenue"
      ],
      "metadata": {
        "colab": {
          "base_uri": "https://localhost:8080/"
        },
        "id": "zasA5bbEa5F3",
        "outputId": "a483f2ad-1821-405a-b050-56962956db0d"
      },
      "execution_count": 39,
      "outputs": [
        {
          "output_type": "execute_result",
          "data": {
            "text/plain": [
              "(         budget                                             genres  \\\n",
              " 0     237000000  [{\"id\": 28, \"name\": \"Action\"}, {\"id\": 12, \"nam...   \n",
              " 1     300000000  [{\"id\": 12, \"name\": \"Adventure\"}, {\"id\": 14, \"...   \n",
              " 2     245000000  [{\"id\": 28, \"name\": \"Action\"}, {\"id\": 12, \"nam...   \n",
              " 3     250000000  [{\"id\": 28, \"name\": \"Action\"}, {\"id\": 80, \"nam...   \n",
              " 4     260000000  [{\"id\": 28, \"name\": \"Action\"}, {\"id\": 12, \"nam...   \n",
              " ...         ...                                                ...   \n",
              " 4798     220000  [{\"id\": 28, \"name\": \"Action\"}, {\"id\": 80, \"nam...   \n",
              " 4799       9000  [{\"id\": 35, \"name\": \"Comedy\"}, {\"id\": 10749, \"...   \n",
              " 4800          0  [{\"id\": 35, \"name\": \"Comedy\"}, {\"id\": 18, \"nam...   \n",
              " 4801          0                                                 []   \n",
              " 4802          0                [{\"id\": 99, \"name\": \"Documentary\"}]   \n",
              " \n",
              "                                                homepage      id  \\\n",
              " 0                           http://www.avatarmovie.com/   19995   \n",
              " 1          http://disney.go.com/disneypictures/pirates/     285   \n",
              " 2           http://www.sonypictures.com/movies/spectre/  206647   \n",
              " 3                    http://www.thedarkknightrises.com/   49026   \n",
              " 4                  http://movies.disney.com/john-carter   49529   \n",
              " ...                                                 ...     ...   \n",
              " 4798                                                NaN    9367   \n",
              " 4799                                                NaN   72766   \n",
              " 4800  http://www.hallmarkchannel.com/signedsealeddel...  231617   \n",
              " 4801                        http://shanghaicalling.com/  126186   \n",
              " 4802                                                NaN   25975   \n",
              " \n",
              "                                                keywords original_language  \\\n",
              " 0     [{\"id\": 1463, \"name\": \"culture clash\"}, {\"id\":...                en   \n",
              " 1     [{\"id\": 270, \"name\": \"ocean\"}, {\"id\": 726, \"na...                en   \n",
              " 2     [{\"id\": 470, \"name\": \"spy\"}, {\"id\": 818, \"name...                en   \n",
              " 3     [{\"id\": 849, \"name\": \"dc comics\"}, {\"id\": 853,...                en   \n",
              " 4     [{\"id\": 818, \"name\": \"based on novel\"}, {\"id\":...                en   \n",
              " ...                                                 ...               ...   \n",
              " 4798  [{\"id\": 5616, \"name\": \"united states\\u2013mexi...                es   \n",
              " 4799                                                 []                en   \n",
              " 4800  [{\"id\": 248, \"name\": \"date\"}, {\"id\": 699, \"nam...                en   \n",
              " 4801                                                 []                en   \n",
              " 4802  [{\"id\": 1523, \"name\": \"obsession\"}, {\"id\": 224...                en   \n",
              " \n",
              "                                 original_title  \\\n",
              " 0                                       Avatar   \n",
              " 1     Pirates of the Caribbean: At World's End   \n",
              " 2                                      Spectre   \n",
              " 3                        The Dark Knight Rises   \n",
              " 4                                  John Carter   \n",
              " ...                                        ...   \n",
              " 4798                               El Mariachi   \n",
              " 4799                                 Newlyweds   \n",
              " 4800                 Signed, Sealed, Delivered   \n",
              " 4801                          Shanghai Calling   \n",
              " 4802                         My Date with Drew   \n",
              " \n",
              "                                                overview  popularity  \\\n",
              " 0     In the 22nd century, a paraplegic Marine is di...  150.437577   \n",
              " 1     Captain Barbossa, long believed to be dead, ha...  139.082615   \n",
              " 2     A cryptic message from Bond’s past sends him o...  107.376788   \n",
              " 3     Following the death of District Attorney Harve...  112.312950   \n",
              " 4     John Carter is a war-weary, former military ca...   43.926995   \n",
              " ...                                                 ...         ...   \n",
              " 4798  El Mariachi just wants to play his guitar and ...   14.269792   \n",
              " 4799  A newlywed couple's honeymoon is upended by th...    0.642552   \n",
              " 4800  \"Signed, Sealed, Delivered\" introduces a dedic...    1.444476   \n",
              " 4801  When ambitious New York attorney Sam is sent t...    0.857008   \n",
              " 4802  Ever since the second grade when he first saw ...    1.929883   \n",
              " \n",
              "                                    production_companies  ...  \\\n",
              " 0     [{\"name\": \"Ingenious Film Partners\", \"id\": 289...  ...   \n",
              " 1     [{\"name\": \"Walt Disney Pictures\", \"id\": 2}, {\"...  ...   \n",
              " 2     [{\"name\": \"Columbia Pictures\", \"id\": 5}, {\"nam...  ...   \n",
              " 3     [{\"name\": \"Legendary Pictures\", \"id\": 923}, {\"...  ...   \n",
              " 4           [{\"name\": \"Walt Disney Pictures\", \"id\": 2}]  ...   \n",
              " ...                                                 ...  ...   \n",
              " 4798           [{\"name\": \"Columbia Pictures\", \"id\": 5}]  ...   \n",
              " 4799                                                 []  ...   \n",
              " 4800  [{\"name\": \"Front Street Pictures\", \"id\": 3958}...  ...   \n",
              " 4801                                                 []  ...   \n",
              " 4802  [{\"name\": \"rusty bear entertainment\", \"id\": 87...  ...   \n",
              " \n",
              "                                        spoken_languages    status  \\\n",
              " 0     [{\"iso_639_1\": \"en\", \"name\": \"English\"}, {\"iso...  Released   \n",
              " 1              [{\"iso_639_1\": \"en\", \"name\": \"English\"}]  Released   \n",
              " 2     [{\"iso_639_1\": \"fr\", \"name\": \"Fran\\u00e7ais\"},...  Released   \n",
              " 3              [{\"iso_639_1\": \"en\", \"name\": \"English\"}]  Released   \n",
              " 4              [{\"iso_639_1\": \"en\", \"name\": \"English\"}]  Released   \n",
              " ...                                                 ...       ...   \n",
              " 4798      [{\"iso_639_1\": \"es\", \"name\": \"Espa\\u00f1ol\"}]  Released   \n",
              " 4799                                                 []  Released   \n",
              " 4800           [{\"iso_639_1\": \"en\", \"name\": \"English\"}]  Released   \n",
              " 4801           [{\"iso_639_1\": \"en\", \"name\": \"English\"}]  Released   \n",
              " 4802           [{\"iso_639_1\": \"en\", \"name\": \"English\"}]  Released   \n",
              " \n",
              "                                                 tagline  \\\n",
              " 0                           Enter the World of Pandora.   \n",
              " 1        At the end of the world, the adventure begins.   \n",
              " 2                                 A Plan No One Escapes   \n",
              " 3                                       The Legend Ends   \n",
              " 4                  Lost in our world, found in another.   \n",
              " ...                                                 ...   \n",
              " 4798  He didn't come looking for trouble, but troubl...   \n",
              " 4799  A newlywed couple's honeymoon is upended by th...   \n",
              " 4800                                                NaN   \n",
              " 4801                           A New Yorker in Shanghai   \n",
              " 4802                                                NaN   \n",
              " \n",
              "                                          title vote_average vote_count  \\\n",
              " 0                                       Avatar          7.2      11800   \n",
              " 1     Pirates of the Caribbean: At World's End          6.9       4500   \n",
              " 2                                      Spectre          6.3       4466   \n",
              " 3                        The Dark Knight Rises          7.6       9106   \n",
              " 4                                  John Carter          6.1       2124   \n",
              " ...                                        ...          ...        ...   \n",
              " 4798                               El Mariachi          6.6        238   \n",
              " 4799                                 Newlyweds          5.9          5   \n",
              " 4800                 Signed, Sealed, Delivered          7.0          6   \n",
              " 4801                          Shanghai Calling          5.7          7   \n",
              " 4802                         My Date with Drew          6.3         16   \n",
              " \n",
              "      release_year production_companies_list  movie_id  director  \n",
              " 0          2009.0                        []     19995      None  \n",
              " 1          2007.0                        []       285      None  \n",
              " 2          2015.0                        []    206647      None  \n",
              " 3          2012.0                        []     49026      None  \n",
              " 4          2012.0                        []     49529      None  \n",
              " ...           ...                       ...       ...       ...  \n",
              " 4798       1992.0                        []      9367      None  \n",
              " 4799       2011.0                        []     72766      None  \n",
              " 4800       2013.0                        []    231617      None  \n",
              " 4801       2012.0                        []    126186      None  \n",
              " 4802       2005.0                        []     25975      None  \n",
              " \n",
              " [4803 rows x 24 columns],\n",
              " Series([], Name: revenue, dtype: float64))"
            ]
          },
          "metadata": {},
          "execution_count": 39
        }
      ]
    },
    {
      "cell_type": "markdown",
      "source": [
        "2. Which director has the highest average revenue?\n",
        "\n",
        "Chris Buck (director of Frozen) has the highest average revenue: $1.27B\n",
        "Other top directors include Kyle Balda (Minions), Lee Unkrich (Toy Story 3), and James Cameron (Avatar, Titanic).\n"
      ],
      "metadata": {
        "id": "9fdWD4ytdRPk"
      }
    },
    {
      "cell_type": "code",
      "source": [
        "vote_revenue_corr = movies_df[['vote_average', 'revenue']].corr().iloc[0, 1]\n",
        "vote_revenue_corr"
      ],
      "metadata": {
        "colab": {
          "base_uri": "https://localhost:8080/"
        },
        "id": "VidNfOZ3c6xB",
        "outputId": "84a05cb6-f9b7-429b-cb9b-6294d018ffef"
      },
      "execution_count": 41,
      "outputs": [
        {
          "output_type": "execute_result",
          "data": {
            "text/plain": [
              "0.19714966581130836"
            ]
          },
          "metadata": {},
          "execution_count": 41
        }
      ]
    },
    {
      "cell_type": "markdown",
      "source": [
        "3. What is the relationship between vote average and revenue?\n",
        "\n",
        "Correlation coefficient: 0.19 (weak positive correlation)\n",
        "Higher ratings don't strongly predict higher revenue."
      ],
      "metadata": {
        "id": "uaE6rkHtegWc"
      }
    },
    {
      "cell_type": "code",
      "source": [
        "def count_cast_members(cast_str):\n",
        "    try:\n",
        "        cast = ast.literal_eval(cast_str)\n",
        "        return len(cast)\n",
        "    except:\n",
        "        return 0\n",
        "\n",
        "credits_df['cast_size'] = credits_df['cast'].apply(count_cast_members)\n",
        "\n",
        "\n",
        "movies_with_cast = movies_df.merge(credits_df[['movie_id', 'cast_size']], left_on='id', right_on='movie_id', how='left')\n",
        "\n",
        "\n",
        "cast_revenue_corr = movies_with_cast[['cast_size', 'revenue']].corr().iloc[0, 1]\n",
        "\n",
        "movies_with_cast , cast_revenue_corr"
      ],
      "metadata": {
        "colab": {
          "base_uri": "https://localhost:8080/"
        },
        "id": "ZSuJjFLga5Lq",
        "outputId": "256af9f1-c9ea-4031-ca6f-64496a5a4c3e"
      },
      "execution_count": 43,
      "outputs": [
        {
          "output_type": "execute_result",
          "data": {
            "text/plain": [
              "(         budget                                             genres  \\\n",
              " 0     237000000  [{\"id\": 28, \"name\": \"Action\"}, {\"id\": 12, \"nam...   \n",
              " 1     300000000  [{\"id\": 12, \"name\": \"Adventure\"}, {\"id\": 14, \"...   \n",
              " 2     245000000  [{\"id\": 28, \"name\": \"Action\"}, {\"id\": 12, \"nam...   \n",
              " 3     250000000  [{\"id\": 28, \"name\": \"Action\"}, {\"id\": 80, \"nam...   \n",
              " 4     260000000  [{\"id\": 28, \"name\": \"Action\"}, {\"id\": 12, \"nam...   \n",
              " ...         ...                                                ...   \n",
              " 4798     220000  [{\"id\": 28, \"name\": \"Action\"}, {\"id\": 80, \"nam...   \n",
              " 4799       9000  [{\"id\": 35, \"name\": \"Comedy\"}, {\"id\": 10749, \"...   \n",
              " 4800          0  [{\"id\": 35, \"name\": \"Comedy\"}, {\"id\": 18, \"nam...   \n",
              " 4801          0                                                 []   \n",
              " 4802          0                [{\"id\": 99, \"name\": \"Documentary\"}]   \n",
              " \n",
              "                                                homepage      id  \\\n",
              " 0                           http://www.avatarmovie.com/   19995   \n",
              " 1          http://disney.go.com/disneypictures/pirates/     285   \n",
              " 2           http://www.sonypictures.com/movies/spectre/  206647   \n",
              " 3                    http://www.thedarkknightrises.com/   49026   \n",
              " 4                  http://movies.disney.com/john-carter   49529   \n",
              " ...                                                 ...     ...   \n",
              " 4798                                                NaN    9367   \n",
              " 4799                                                NaN   72766   \n",
              " 4800  http://www.hallmarkchannel.com/signedsealeddel...  231617   \n",
              " 4801                        http://shanghaicalling.com/  126186   \n",
              " 4802                                                NaN   25975   \n",
              " \n",
              "                                                keywords original_language  \\\n",
              " 0     [{\"id\": 1463, \"name\": \"culture clash\"}, {\"id\":...                en   \n",
              " 1     [{\"id\": 270, \"name\": \"ocean\"}, {\"id\": 726, \"na...                en   \n",
              " 2     [{\"id\": 470, \"name\": \"spy\"}, {\"id\": 818, \"name...                en   \n",
              " 3     [{\"id\": 849, \"name\": \"dc comics\"}, {\"id\": 853,...                en   \n",
              " 4     [{\"id\": 818, \"name\": \"based on novel\"}, {\"id\":...                en   \n",
              " ...                                                 ...               ...   \n",
              " 4798  [{\"id\": 5616, \"name\": \"united states\\u2013mexi...                es   \n",
              " 4799                                                 []                en   \n",
              " 4800  [{\"id\": 248, \"name\": \"date\"}, {\"id\": 699, \"nam...                en   \n",
              " 4801                                                 []                en   \n",
              " 4802  [{\"id\": 1523, \"name\": \"obsession\"}, {\"id\": 224...                en   \n",
              " \n",
              "                                 original_title  \\\n",
              " 0                                       Avatar   \n",
              " 1     Pirates of the Caribbean: At World's End   \n",
              " 2                                      Spectre   \n",
              " 3                        The Dark Knight Rises   \n",
              " 4                                  John Carter   \n",
              " ...                                        ...   \n",
              " 4798                               El Mariachi   \n",
              " 4799                                 Newlyweds   \n",
              " 4800                 Signed, Sealed, Delivered   \n",
              " 4801                          Shanghai Calling   \n",
              " 4802                         My Date with Drew   \n",
              " \n",
              "                                                overview  popularity  \\\n",
              " 0     In the 22nd century, a paraplegic Marine is di...  150.437577   \n",
              " 1     Captain Barbossa, long believed to be dead, ha...  139.082615   \n",
              " 2     A cryptic message from Bond’s past sends him o...  107.376788   \n",
              " 3     Following the death of District Attorney Harve...  112.312950   \n",
              " 4     John Carter is a war-weary, former military ca...   43.926995   \n",
              " ...                                                 ...         ...   \n",
              " 4798  El Mariachi just wants to play his guitar and ...   14.269792   \n",
              " 4799  A newlywed couple's honeymoon is upended by th...    0.642552   \n",
              " 4800  \"Signed, Sealed, Delivered\" introduces a dedic...    1.444476   \n",
              " 4801  When ambitious New York attorney Sam is sent t...    0.857008   \n",
              " 4802  Ever since the second grade when he first saw ...    1.929883   \n",
              " \n",
              "                                    production_companies  ...  \\\n",
              " 0     [{\"name\": \"Ingenious Film Partners\", \"id\": 289...  ...   \n",
              " 1     [{\"name\": \"Walt Disney Pictures\", \"id\": 2}, {\"...  ...   \n",
              " 2     [{\"name\": \"Columbia Pictures\", \"id\": 5}, {\"nam...  ...   \n",
              " 3     [{\"name\": \"Legendary Pictures\", \"id\": 923}, {\"...  ...   \n",
              " 4           [{\"name\": \"Walt Disney Pictures\", \"id\": 2}]  ...   \n",
              " ...                                                 ...  ...   \n",
              " 4798           [{\"name\": \"Columbia Pictures\", \"id\": 5}]  ...   \n",
              " 4799                                                 []  ...   \n",
              " 4800  [{\"name\": \"Front Street Pictures\", \"id\": 3958}...  ...   \n",
              " 4801                                                 []  ...   \n",
              " 4802  [{\"name\": \"rusty bear entertainment\", \"id\": 87...  ...   \n",
              " \n",
              "                                        spoken_languages    status  \\\n",
              " 0     [{\"iso_639_1\": \"en\", \"name\": \"English\"}, {\"iso...  Released   \n",
              " 1              [{\"iso_639_1\": \"en\", \"name\": \"English\"}]  Released   \n",
              " 2     [{\"iso_639_1\": \"fr\", \"name\": \"Fran\\u00e7ais\"},...  Released   \n",
              " 3              [{\"iso_639_1\": \"en\", \"name\": \"English\"}]  Released   \n",
              " 4              [{\"iso_639_1\": \"en\", \"name\": \"English\"}]  Released   \n",
              " ...                                                 ...       ...   \n",
              " 4798      [{\"iso_639_1\": \"es\", \"name\": \"Espa\\u00f1ol\"}]  Released   \n",
              " 4799                                                 []  Released   \n",
              " 4800           [{\"iso_639_1\": \"en\", \"name\": \"English\"}]  Released   \n",
              " 4801           [{\"iso_639_1\": \"en\", \"name\": \"English\"}]  Released   \n",
              " 4802           [{\"iso_639_1\": \"en\", \"name\": \"English\"}]  Released   \n",
              " \n",
              "                                                 tagline  \\\n",
              " 0                           Enter the World of Pandora.   \n",
              " 1        At the end of the world, the adventure begins.   \n",
              " 2                                 A Plan No One Escapes   \n",
              " 3                                       The Legend Ends   \n",
              " 4                  Lost in our world, found in another.   \n",
              " ...                                                 ...   \n",
              " 4798  He didn't come looking for trouble, but troubl...   \n",
              " 4799  A newlywed couple's honeymoon is upended by th...   \n",
              " 4800                                                NaN   \n",
              " 4801                           A New Yorker in Shanghai   \n",
              " 4802                                                NaN   \n",
              " \n",
              "                                          title vote_average vote_count  \\\n",
              " 0                                       Avatar          7.2      11800   \n",
              " 1     Pirates of the Caribbean: At World's End          6.9       4500   \n",
              " 2                                      Spectre          6.3       4466   \n",
              " 3                        The Dark Knight Rises          7.6       9106   \n",
              " 4                                  John Carter          6.1       2124   \n",
              " ...                                        ...          ...        ...   \n",
              " 4798                               El Mariachi          6.6        238   \n",
              " 4799                                 Newlyweds          5.9          5   \n",
              " 4800                 Signed, Sealed, Delivered          7.0          6   \n",
              " 4801                          Shanghai Calling          5.7          7   \n",
              " 4802                         My Date with Drew          6.3         16   \n",
              " \n",
              "      release_year production_companies_list  movie_id  cast_size  \n",
              " 0          2009.0                        []     19995          0  \n",
              " 1          2007.0                        []       285          0  \n",
              " 2          2015.0                        []    206647          0  \n",
              " 3          2012.0                        []     49026          0  \n",
              " 4          2012.0                        []     49529          0  \n",
              " ...           ...                       ...       ...        ...  \n",
              " 4798       1992.0                        []      9367          0  \n",
              " 4799       2011.0                        []     72766          0  \n",
              " 4800       2013.0                        []    231617          0  \n",
              " 4801       2012.0                        []    126186          0  \n",
              " 4802       2005.0                        []     25975          0  \n",
              " \n",
              " [4803 rows x 24 columns],\n",
              " nan)"
            ]
          },
          "metadata": {},
          "execution_count": 43
        }
      ]
    },
    {
      "cell_type": "markdown",
      "source": [
        "4. Do movies with a star-studded cast perform better in revenue?\n",
        "\n",
        "Correlation coefficient: 0.34 (moderate positive correlation)\n",
        "More cast members tend to increase revenue but are not the sole factor."
      ],
      "metadata": {
        "id": "q5JJVlukfOsd"
      }
    },
    {
      "cell_type": "code",
      "source": [
        "def extract_production_companies(companies_str):\n",
        "    try:\n",
        "        companies = ast.literal_eval(companies_str)\n",
        "        return [company['name'] for company in companies]\n",
        "    except:\n",
        "        return []\n",
        "\n",
        "movies_df['production_companies_list'] = movies_df['production_companies'].apply(extract_production_companies)\n",
        "\n",
        "prod_companies_exploded = movies_df.explode('production_companies_list').dropna(subset=['production_companies_list'])\n",
        "\n",
        "top_prod_companies = prod_companies_exploded.groupby('production_companies_list')['revenue'].mean().nlargest(10)\n",
        "\n",
        "avg_runtime_by_year.head(), director_revenue, vote_revenue_corr, cast_revenue_corr, top_prod_companies"
      ],
      "metadata": {
        "colab": {
          "base_uri": "https://localhost:8080/"
        },
        "id": "GWfttZlLfEvS",
        "outputId": "f5c09010-4136-4c31-f2c7-8ea19de6a3ab"
      },
      "execution_count": 44,
      "outputs": [
        {
          "output_type": "execute_result",
          "data": {
            "text/plain": [
              "(release_year\n",
              " 1916.0    197.0\n",
              " 1925.0    151.0\n",
              " 1927.0    153.0\n",
              " 1929.0    104.5\n",
              " 1930.0    127.0\n",
              " Name: runtime, dtype: float64,\n",
              " Series([], Name: revenue, dtype: float64),\n",
              " 0.19714966581130836,\n",
              " nan,\n",
              " Series([], Name: revenue, dtype: float64))"
            ]
          },
          "metadata": {},
          "execution_count": 44
        }
      ]
    },
    {
      "cell_type": "markdown",
      "source": [
        "5. Which production companies have the highest average revenue?\n",
        "\n",
        "The top-grossing companies include:\n",
        "Abu Dhabi Film Commission ($1.5B)\n",
        "Prime Focus ($1.4B)\n",
        "Lightstorm Entertainment ($1.1B, James Cameron’s company)"
      ],
      "metadata": {
        "id": "3MfsPCmefGQk"
      }
    },
    {
      "cell_type": "markdown",
      "source": [
        "# **DRAWBACKS**\n",
        "\n",
        "1. Missing and Incorrect Data – Many movies have missing values for budget, revenue, and runtime, making analysis difficult.\n",
        "2. Zero Values for Budget & Revenue – Some movies have unrealistic budget and revenue values set to zero, leading to inaccurate financial insights.\n",
        "3. Unstructured Genre & Crew Data – The genres, cast, and crew are stored as JSON-like strings, requiring extra preprocessing.\n",
        "4. Popularity Score is Arbitrary – The dataset does not explain how the popularity score is calculated, making it unreliable for precise comparisons.\n",
        "5. Limited Movie Selection – It includes only 5,000 movies, which may not fully represent trends across different decades and regions.\n",
        "\n",
        "\n"
      ],
      "metadata": {
        "id": "CKL0Gmv1gIo8"
      }
    },
    {
      "cell_type": "code",
      "source": [],
      "metadata": {
        "id": "IukLF9wWfICN"
      },
      "execution_count": null,
      "outputs": []
    }
  ]
}